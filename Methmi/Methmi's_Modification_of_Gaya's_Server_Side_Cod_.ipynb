{
  "nbformat": 4,
  "nbformat_minor": 0,
  "metadata": {
    "colab": {
      "provenance": [],
      "authorship_tag": "ABX9TyOE+I5nYLH+tX9vP3kl7ILo",
      "include_colab_link": true
    },
    "kernelspec": {
      "name": "python3",
      "display_name": "Python 3"
    },
    "language_info": {
      "name": "python"
    }
  },
  "cells": [
    {
      "cell_type": "markdown",
      "metadata": {
        "id": "view-in-github",
        "colab_type": "text"
      },
      "source": [
        "<a href=\"https://colab.research.google.com/github/MethmiDharmakeerthi/OurAcademicResearchIsBest/blob/main/Methmi/Methmi's_Modification_of_Gaya's_Server_Side_Cod_.ipynb\" target=\"_parent\"><img src=\"https://colab.research.google.com/assets/colab-badge.svg\" alt=\"Open In Colab\"/></a>"
      ]
    },
    {
      "cell_type": "code",
      "execution_count": null,
      "metadata": {
        "colab": {
          "base_uri": "https://localhost:8080/"
        },
        "collapsed": true,
        "id": "LynPPEBeaNAs",
        "outputId": "5ad03a6c-b7ed-4f1e-b896-d38302b63df7"
      },
      "outputs": [
        {
          "output_type": "stream",
          "name": "stdout",
          "text": [
            "Requirement already satisfied: opencv-python in /usr/local/lib/python3.11/dist-packages (4.11.0.86)\n",
            "Requirement already satisfied: numpy>=1.21.2 in /usr/local/lib/python3.11/dist-packages (from opencv-python) (2.0.2)\n",
            "Requirement already satisfied: tensorflow in /usr/local/lib/python3.11/dist-packages (2.18.0)\n",
            "Requirement already satisfied: absl-py>=1.0.0 in /usr/local/lib/python3.11/dist-packages (from tensorflow) (1.4.0)\n",
            "Requirement already satisfied: astunparse>=1.6.0 in /usr/local/lib/python3.11/dist-packages (from tensorflow) (1.6.3)\n",
            "Requirement already satisfied: flatbuffers>=24.3.25 in /usr/local/lib/python3.11/dist-packages (from tensorflow) (25.2.10)\n",
            "Requirement already satisfied: gast!=0.5.0,!=0.5.1,!=0.5.2,>=0.2.1 in /usr/local/lib/python3.11/dist-packages (from tensorflow) (0.6.0)\n",
            "Requirement already satisfied: google-pasta>=0.1.1 in /usr/local/lib/python3.11/dist-packages (from tensorflow) (0.2.0)\n",
            "Requirement already satisfied: libclang>=13.0.0 in /usr/local/lib/python3.11/dist-packages (from tensorflow) (18.1.1)\n",
            "Requirement already satisfied: opt-einsum>=2.3.2 in /usr/local/lib/python3.11/dist-packages (from tensorflow) (3.4.0)\n",
            "Requirement already satisfied: packaging in /usr/local/lib/python3.11/dist-packages (from tensorflow) (24.2)\n",
            "Requirement already satisfied: protobuf!=4.21.0,!=4.21.1,!=4.21.2,!=4.21.3,!=4.21.4,!=4.21.5,<6.0.0dev,>=3.20.3 in /usr/local/lib/python3.11/dist-packages (from tensorflow) (5.29.4)\n",
            "Requirement already satisfied: requests<3,>=2.21.0 in /usr/local/lib/python3.11/dist-packages (from tensorflow) (2.32.3)\n",
            "Requirement already satisfied: setuptools in /usr/local/lib/python3.11/dist-packages (from tensorflow) (75.2.0)\n",
            "Requirement already satisfied: six>=1.12.0 in /usr/local/lib/python3.11/dist-packages (from tensorflow) (1.17.0)\n",
            "Requirement already satisfied: termcolor>=1.1.0 in /usr/local/lib/python3.11/dist-packages (from tensorflow) (3.0.1)\n",
            "Requirement already satisfied: typing-extensions>=3.6.6 in /usr/local/lib/python3.11/dist-packages (from tensorflow) (4.13.2)\n",
            "Requirement already satisfied: wrapt>=1.11.0 in /usr/local/lib/python3.11/dist-packages (from tensorflow) (1.17.2)\n",
            "Requirement already satisfied: grpcio<2.0,>=1.24.3 in /usr/local/lib/python3.11/dist-packages (from tensorflow) (1.71.0)\n",
            "Requirement already satisfied: tensorboard<2.19,>=2.18 in /usr/local/lib/python3.11/dist-packages (from tensorflow) (2.18.0)\n",
            "Requirement already satisfied: keras>=3.5.0 in /usr/local/lib/python3.11/dist-packages (from tensorflow) (3.8.0)\n",
            "Requirement already satisfied: numpy<2.1.0,>=1.26.0 in /usr/local/lib/python3.11/dist-packages (from tensorflow) (2.0.2)\n",
            "Requirement already satisfied: h5py>=3.11.0 in /usr/local/lib/python3.11/dist-packages (from tensorflow) (3.13.0)\n",
            "Requirement already satisfied: ml-dtypes<0.5.0,>=0.4.0 in /usr/local/lib/python3.11/dist-packages (from tensorflow) (0.4.1)\n",
            "Requirement already satisfied: tensorflow-io-gcs-filesystem>=0.23.1 in /usr/local/lib/python3.11/dist-packages (from tensorflow) (0.37.1)\n",
            "Requirement already satisfied: wheel<1.0,>=0.23.0 in /usr/local/lib/python3.11/dist-packages (from astunparse>=1.6.0->tensorflow) (0.45.1)\n",
            "Requirement already satisfied: rich in /usr/local/lib/python3.11/dist-packages (from keras>=3.5.0->tensorflow) (13.9.4)\n",
            "Requirement already satisfied: namex in /usr/local/lib/python3.11/dist-packages (from keras>=3.5.0->tensorflow) (0.0.9)\n",
            "Requirement already satisfied: optree in /usr/local/lib/python3.11/dist-packages (from keras>=3.5.0->tensorflow) (0.15.0)\n",
            "Requirement already satisfied: charset-normalizer<4,>=2 in /usr/local/lib/python3.11/dist-packages (from requests<3,>=2.21.0->tensorflow) (3.4.1)\n",
            "Requirement already satisfied: idna<4,>=2.5 in /usr/local/lib/python3.11/dist-packages (from requests<3,>=2.21.0->tensorflow) (3.10)\n",
            "Requirement already satisfied: urllib3<3,>=1.21.1 in /usr/local/lib/python3.11/dist-packages (from requests<3,>=2.21.0->tensorflow) (2.4.0)\n",
            "Requirement already satisfied: certifi>=2017.4.17 in /usr/local/lib/python3.11/dist-packages (from requests<3,>=2.21.0->tensorflow) (2025.4.26)\n",
            "Requirement already satisfied: markdown>=2.6.8 in /usr/local/lib/python3.11/dist-packages (from tensorboard<2.19,>=2.18->tensorflow) (3.8)\n",
            "Requirement already satisfied: tensorboard-data-server<0.8.0,>=0.7.0 in /usr/local/lib/python3.11/dist-packages (from tensorboard<2.19,>=2.18->tensorflow) (0.7.2)\n",
            "Requirement already satisfied: werkzeug>=1.0.1 in /usr/local/lib/python3.11/dist-packages (from tensorboard<2.19,>=2.18->tensorflow) (3.1.3)\n",
            "Requirement already satisfied: MarkupSafe>=2.1.1 in /usr/local/lib/python3.11/dist-packages (from werkzeug>=1.0.1->tensorboard<2.19,>=2.18->tensorflow) (3.0.2)\n",
            "Requirement already satisfied: markdown-it-py>=2.2.0 in /usr/local/lib/python3.11/dist-packages (from rich->keras>=3.5.0->tensorflow) (3.0.0)\n",
            "Requirement already satisfied: pygments<3.0.0,>=2.13.0 in /usr/local/lib/python3.11/dist-packages (from rich->keras>=3.5.0->tensorflow) (2.19.1)\n",
            "Requirement already satisfied: mdurl~=0.1 in /usr/local/lib/python3.11/dist-packages (from markdown-it-py>=2.2.0->rich->keras>=3.5.0->tensorflow) (0.1.2)\n"
          ]
        }
      ],
      "source": [
        "!pip install opencv-python\n",
        "!pip install tensorflow"
      ]
    },
    {
      "cell_type": "code",
      "source": [
        "!pip install opencv-python tensorflow ffmpeg-python"
      ],
      "metadata": {
        "colab": {
          "base_uri": "https://localhost:8080/"
        },
        "collapsed": true,
        "id": "B3khsEO9alXd",
        "outputId": "64cb93a8-26b8-4876-c8b9-79ff7d3291c0"
      },
      "execution_count": null,
      "outputs": [
        {
          "output_type": "stream",
          "name": "stdout",
          "text": [
            "Requirement already satisfied: opencv-python in /usr/local/lib/python3.11/dist-packages (4.11.0.86)\n",
            "Requirement already satisfied: tensorflow in /usr/local/lib/python3.11/dist-packages (2.18.0)\n",
            "Collecting ffmpeg-python\n",
            "  Downloading ffmpeg_python-0.2.0-py3-none-any.whl.metadata (1.7 kB)\n",
            "Requirement already satisfied: numpy>=1.21.2 in /usr/local/lib/python3.11/dist-packages (from opencv-python) (2.0.2)\n",
            "Requirement already satisfied: absl-py>=1.0.0 in /usr/local/lib/python3.11/dist-packages (from tensorflow) (1.4.0)\n",
            "Requirement already satisfied: astunparse>=1.6.0 in /usr/local/lib/python3.11/dist-packages (from tensorflow) (1.6.3)\n",
            "Requirement already satisfied: flatbuffers>=24.3.25 in /usr/local/lib/python3.11/dist-packages (from tensorflow) (25.2.10)\n",
            "Requirement already satisfied: gast!=0.5.0,!=0.5.1,!=0.5.2,>=0.2.1 in /usr/local/lib/python3.11/dist-packages (from tensorflow) (0.6.0)\n",
            "Requirement already satisfied: google-pasta>=0.1.1 in /usr/local/lib/python3.11/dist-packages (from tensorflow) (0.2.0)\n",
            "Requirement already satisfied: libclang>=13.0.0 in /usr/local/lib/python3.11/dist-packages (from tensorflow) (18.1.1)\n",
            "Requirement already satisfied: opt-einsum>=2.3.2 in /usr/local/lib/python3.11/dist-packages (from tensorflow) (3.4.0)\n",
            "Requirement already satisfied: packaging in /usr/local/lib/python3.11/dist-packages (from tensorflow) (24.2)\n",
            "Requirement already satisfied: protobuf!=4.21.0,!=4.21.1,!=4.21.2,!=4.21.3,!=4.21.4,!=4.21.5,<6.0.0dev,>=3.20.3 in /usr/local/lib/python3.11/dist-packages (from tensorflow) (5.29.4)\n",
            "Requirement already satisfied: requests<3,>=2.21.0 in /usr/local/lib/python3.11/dist-packages (from tensorflow) (2.32.3)\n",
            "Requirement already satisfied: setuptools in /usr/local/lib/python3.11/dist-packages (from tensorflow) (75.2.0)\n",
            "Requirement already satisfied: six>=1.12.0 in /usr/local/lib/python3.11/dist-packages (from tensorflow) (1.17.0)\n",
            "Requirement already satisfied: termcolor>=1.1.0 in /usr/local/lib/python3.11/dist-packages (from tensorflow) (3.0.1)\n",
            "Requirement already satisfied: typing-extensions>=3.6.6 in /usr/local/lib/python3.11/dist-packages (from tensorflow) (4.13.2)\n",
            "Requirement already satisfied: wrapt>=1.11.0 in /usr/local/lib/python3.11/dist-packages (from tensorflow) (1.17.2)\n",
            "Requirement already satisfied: grpcio<2.0,>=1.24.3 in /usr/local/lib/python3.11/dist-packages (from tensorflow) (1.71.0)\n",
            "Requirement already satisfied: tensorboard<2.19,>=2.18 in /usr/local/lib/python3.11/dist-packages (from tensorflow) (2.18.0)\n",
            "Requirement already satisfied: keras>=3.5.0 in /usr/local/lib/python3.11/dist-packages (from tensorflow) (3.8.0)\n",
            "Requirement already satisfied: h5py>=3.11.0 in /usr/local/lib/python3.11/dist-packages (from tensorflow) (3.13.0)\n",
            "Requirement already satisfied: ml-dtypes<0.5.0,>=0.4.0 in /usr/local/lib/python3.11/dist-packages (from tensorflow) (0.4.1)\n",
            "Requirement already satisfied: tensorflow-io-gcs-filesystem>=0.23.1 in /usr/local/lib/python3.11/dist-packages (from tensorflow) (0.37.1)\n",
            "Requirement already satisfied: future in /usr/local/lib/python3.11/dist-packages (from ffmpeg-python) (1.0.0)\n",
            "Requirement already satisfied: wheel<1.0,>=0.23.0 in /usr/local/lib/python3.11/dist-packages (from astunparse>=1.6.0->tensorflow) (0.45.1)\n",
            "Requirement already satisfied: rich in /usr/local/lib/python3.11/dist-packages (from keras>=3.5.0->tensorflow) (13.9.4)\n",
            "Requirement already satisfied: namex in /usr/local/lib/python3.11/dist-packages (from keras>=3.5.0->tensorflow) (0.0.9)\n",
            "Requirement already satisfied: optree in /usr/local/lib/python3.11/dist-packages (from keras>=3.5.0->tensorflow) (0.15.0)\n",
            "Requirement already satisfied: charset-normalizer<4,>=2 in /usr/local/lib/python3.11/dist-packages (from requests<3,>=2.21.0->tensorflow) (3.4.1)\n",
            "Requirement already satisfied: idna<4,>=2.5 in /usr/local/lib/python3.11/dist-packages (from requests<3,>=2.21.0->tensorflow) (3.10)\n",
            "Requirement already satisfied: urllib3<3,>=1.21.1 in /usr/local/lib/python3.11/dist-packages (from requests<3,>=2.21.0->tensorflow) (2.4.0)\n",
            "Requirement already satisfied: certifi>=2017.4.17 in /usr/local/lib/python3.11/dist-packages (from requests<3,>=2.21.0->tensorflow) (2025.4.26)\n",
            "Requirement already satisfied: markdown>=2.6.8 in /usr/local/lib/python3.11/dist-packages (from tensorboard<2.19,>=2.18->tensorflow) (3.8)\n",
            "Requirement already satisfied: tensorboard-data-server<0.8.0,>=0.7.0 in /usr/local/lib/python3.11/dist-packages (from tensorboard<2.19,>=2.18->tensorflow) (0.7.2)\n",
            "Requirement already satisfied: werkzeug>=1.0.1 in /usr/local/lib/python3.11/dist-packages (from tensorboard<2.19,>=2.18->tensorflow) (3.1.3)\n",
            "Requirement already satisfied: MarkupSafe>=2.1.1 in /usr/local/lib/python3.11/dist-packages (from werkzeug>=1.0.1->tensorboard<2.19,>=2.18->tensorflow) (3.0.2)\n",
            "Requirement already satisfied: markdown-it-py>=2.2.0 in /usr/local/lib/python3.11/dist-packages (from rich->keras>=3.5.0->tensorflow) (3.0.0)\n",
            "Requirement already satisfied: pygments<3.0.0,>=2.13.0 in /usr/local/lib/python3.11/dist-packages (from rich->keras>=3.5.0->tensorflow) (2.19.1)\n",
            "Requirement already satisfied: mdurl~=0.1 in /usr/local/lib/python3.11/dist-packages (from markdown-it-py>=2.2.0->rich->keras>=3.5.0->tensorflow) (0.1.2)\n",
            "Downloading ffmpeg_python-0.2.0-py3-none-any.whl (25 kB)\n",
            "Installing collected packages: ffmpeg-python\n",
            "Successfully installed ffmpeg-python-0.2.0\n"
          ]
        }
      ]
    },
    {
      "cell_type": "code",
      "source": [
        "from google.colab import drive\n",
        "drive.mount('/content/drive')"
      ],
      "metadata": {
        "colab": {
          "base_uri": "https://localhost:8080/"
        },
        "id": "dYCyuW0Rws3L",
        "outputId": "932c93d1-3ad9-40d6-d191-539586fafa77"
      },
      "execution_count": null,
      "outputs": [
        {
          "output_type": "stream",
          "name": "stdout",
          "text": [
            "Mounted at /content/drive\n"
          ]
        }
      ]
    },
    {
      "cell_type": "code",
      "source": [
        "import ffmpeg\n",
        "\n"
      ],
      "metadata": {
        "id": "GfQG_YDPcDFA"
      },
      "execution_count": null,
      "outputs": []
    },
    {
      "cell_type": "code",
      "source": [
        "# Input video file - slow motion penguin walking video\n",
        "\n",
        "input_video = \"/content/drive/MyDrive/Algorithm_Testing/slow-motion-penguin-walking-on-snow.mp4\"\n",
        "\n",
        "# Get video information using ffprobe\n",
        "probe = ffmpeg.probe(input_video, v='error', select_streams='v:0',\n",
        "                     show_entries='stream=width,height,bit_rate,r_frame_rate')\n",
        "width = probe['streams'][0]['width']\n",
        "height = probe['streams'][0]['height']\n",
        "bit_rate = int(probe['streams'][0]['bit_rate'])\n",
        "frame_rate = eval(probe['streams'][0]['r_frame_rate'])  # converts \"24/1\" to 24.0\n",
        "\n",
        "print(f\"Original Width: {width}\")\n",
        "print(f\"Original Height: {height}\")\n",
        "print(f\"Original Bitrate: {bit_rate} bits per second\")\n",
        "print(f\"Original Frame Rate: {frame_rate}\")"
      ],
      "metadata": {
        "colab": {
          "base_uri": "https://localhost:8080/"
        },
        "id": "BKjOSsulovSy",
        "outputId": "65f2523c-3ff8-4eed-bf5f-9d5ce7551f1f"
      },
      "execution_count": null,
      "outputs": [
        {
          "output_type": "stream",
          "name": "stdout",
          "text": [
            "Original Width: 3840\n",
            "Original Height: 2160\n",
            "Original Bitrate: 37417661 bits per second\n",
            "Original Frame Rate: 23.976023976023978\n"
          ]
        }
      ]
    },
    {
      "cell_type": "markdown",
      "source": [
        "**Adjusting the parameters for compress the video**"
      ],
      "metadata": {
        "id": "J1z1ofkTqrHG"
      }
    },
    {
      "cell_type": "code",
      "source": [
        "import ffmpeg\n",
        "\n",
        "input_video = \"/content/drive/MyDrive/Algorithm_Testing/slow-motion-penguin-walking-on-snow.mp4\"\n",
        "compressed_video = \"/content/drive/MyDrive/Algorithm_Testing/compressed.mp4\"\n",
        "\n",
        "ffmpeg.input(input_video).output(\n",
        "    compressed_video,\n",
        "    r=15,                      # Reduce frame rate to 15 FPS\n",
        "    video_bitrate='500k',      # Lower bitrate (e.g., 500 kbps)\n",
        "    vf='format=yuv420p',       # Downscale color depth\n",
        "    vcodec='libx264',          # Use H.264 codec for better compression\n",
        "    preset='slow',             # Compression efficiency (options: ultrafast, fast, medium, slow, slower)\n",
        "    crf=28                     # Constant Rate Factor (lower = better quality, 23 is default, 28 is lower quality but smaller size)\n",
        ").run(overwrite_output=True)"
      ],
      "metadata": {
        "colab": {
          "base_uri": "https://localhost:8080/"
        },
        "id": "MDIfDn1Iox1f",
        "outputId": "562fd35c-6682-4bc7-a4f5-792603db8c9c"
      },
      "execution_count": null,
      "outputs": [
        {
          "output_type": "execute_result",
          "data": {
            "text/plain": [
              "(None, None)"
            ]
          },
          "metadata": {},
          "execution_count": 13
        }
      ]
    },
    {
      "cell_type": "markdown",
      "source": [
        "**Compressed video info**"
      ],
      "metadata": {
        "id": "yVlUcoE5tA3I"
      }
    },
    {
      "cell_type": "code",
      "source": [
        "# Input video file\n",
        "input_video = \"/content/drive/MyDrive/Algorithm_Testing/compressed.mp4\"\n",
        "\n",
        "# Get video information using ffprobe\n",
        "probe = ffmpeg.probe(input_video, v='error', select_streams='v:0',\n",
        "                     show_entries='stream=width,height,bit_rate,r_frame_rate')\n",
        "width = probe['streams'][0]['width']\n",
        "height = probe['streams'][0]['height']\n",
        "bit_rate = int(probe['streams'][0]['bit_rate'])\n",
        "frame_rate = eval(probe['streams'][0]['r_frame_rate'])  # converts \"24/1\" to 24.0\n",
        "\n",
        "print(f\"Original Width: {width}\")\n",
        "print(f\"Original Height: {height}\")\n",
        "print(f\"Original Bitrate: {bit_rate} bits per second\")\n",
        "print(f\"Original Frame Rate: {frame_rate}\")"
      ],
      "metadata": {
        "colab": {
          "base_uri": "https://localhost:8080/"
        },
        "id": "DVLJBvZAq4n3",
        "outputId": "97a7015c-711b-4831-cb1d-b74b4e73e6c7"
      },
      "execution_count": null,
      "outputs": [
        {
          "output_type": "stream",
          "name": "stdout",
          "text": [
            "Original Width: 3840\n",
            "Original Height: 2160\n",
            "Original Bitrate: 3056289 bits per second\n",
            "Original Frame Rate: 15.0\n"
          ]
        }
      ]
    },
    {
      "cell_type": "code",
      "source": [
        "import os\n",
        "\n",
        "output_dir = \"/content/drive/MyDrive/Algorithm_Testing/frames\"\n",
        "os.makedirs(output_dir, exist_ok=True)"
      ],
      "metadata": {
        "id": "zbxcoGyKq0mM"
      },
      "execution_count": null,
      "outputs": []
    },
    {
      "cell_type": "code",
      "source": [
        "!ffmpeg -i \"/content/drive/MyDrive/Algorithm_Testing/compressed.mp4\" -qscale:v 2 \"/content/drive/MyDrive/Algorithm_Testing/frames/frame_%04d.jpg\""
      ],
      "metadata": {
        "colab": {
          "base_uri": "https://localhost:8080/"
        },
        "id": "QEAG6Dnatcnz",
        "outputId": "6c80a8e8-55dd-4652-a918-3e0eccd73ef6"
      },
      "execution_count": null,
      "outputs": [
        {
          "output_type": "stream",
          "name": "stdout",
          "text": [
            "ffmpeg version 4.4.2-0ubuntu0.22.04.1 Copyright (c) 2000-2021 the FFmpeg developers\n",
            "  built with gcc 11 (Ubuntu 11.2.0-19ubuntu1)\n",
            "  configuration: --prefix=/usr --extra-version=0ubuntu0.22.04.1 --toolchain=hardened --libdir=/usr/lib/x86_64-linux-gnu --incdir=/usr/include/x86_64-linux-gnu --arch=amd64 --enable-gpl --disable-stripping --enable-gnutls --enable-ladspa --enable-libaom --enable-libass --enable-libbluray --enable-libbs2b --enable-libcaca --enable-libcdio --enable-libcodec2 --enable-libdav1d --enable-libflite --enable-libfontconfig --enable-libfreetype --enable-libfribidi --enable-libgme --enable-libgsm --enable-libjack --enable-libmp3lame --enable-libmysofa --enable-libopenjpeg --enable-libopenmpt --enable-libopus --enable-libpulse --enable-librabbitmq --enable-librubberband --enable-libshine --enable-libsnappy --enable-libsoxr --enable-libspeex --enable-libsrt --enable-libssh --enable-libtheora --enable-libtwolame --enable-libvidstab --enable-libvorbis --enable-libvpx --enable-libwebp --enable-libx265 --enable-libxml2 --enable-libxvid --enable-libzimg --enable-libzmq --enable-libzvbi --enable-lv2 --enable-omx --enable-openal --enable-opencl --enable-opengl --enable-sdl2 --enable-pocketsphinx --enable-librsvg --enable-libmfx --enable-libdc1394 --enable-libdrm --enable-libiec61883 --enable-chromaprint --enable-frei0r --enable-libx264 --enable-shared\n",
            "  libavutil      56. 70.100 / 56. 70.100\n",
            "  libavcodec     58.134.100 / 58.134.100\n",
            "  libavformat    58. 76.100 / 58. 76.100\n",
            "  libavdevice    58. 13.100 / 58. 13.100\n",
            "  libavfilter     7.110.100 /  7.110.100\n",
            "  libswscale      5.  9.100 /  5.  9.100\n",
            "  libswresample   3.  9.100 /  3.  9.100\n",
            "  libpostproc    55.  9.100 / 55.  9.100\n",
            "\u001b[0;35m[mov,mp4,m4a,3gp,3g2,mj2 @ 0x55663af96000] \u001b[0m\u001b[0;33mUsing non-standard frame rate 15360/1024\n",
            "\u001b[0mInput #0, mov,mp4,m4a,3gp,3g2,mj2, from '/content/drive/MyDrive/Algorithm_Testing/compressed.mp4':\n",
            "  Metadata:\n",
            "    major_brand     : isom\n",
            "    minor_version   : 512\n",
            "    compatible_brands: isomiso2avc1mp41\n",
            "    encoder         : Lavf58.76.100\n",
            "  Duration: 00:00:23.53, start: 0.000000, bitrate: 3057 kb/s\n",
            "  Stream #0:0(und): Video: h264 (High) (avc1 / 0x31637661), yuv420p(tv, bt709/bt709/unknown), 3840x2160 [SAR 1:1 DAR 16:9], 3056 kb/s, 15 fps, 15 tbr, 15360 tbn, 30 tbc (default)\n",
            "    Metadata:\n",
            "      handler_name    : VideoHandler\n",
            "      vendor_id       : [0][0][0][0]\n",
            "      timecode        : 04:34:44:01\n",
            "  Stream #0:1(eng): Data: none (tmcd / 0x64636D74), 0 kb/s\n",
            "    Metadata:\n",
            "      handler_name    : VideoHandler\n",
            "      timecode        : 04:34:44:01\n",
            "Stream mapping:\n",
            "  Stream #0:0 -> #0:0 (h264 (native) -> mjpeg (native))\n",
            "Press [q] to stop, [?] for help\n",
            "\u001b[1;34m[swscaler @ 0x55663afccbc0] \u001b[0m\u001b[0;33mdeprecated pixel format used, make sure you did set range correctly\n",
            "\u001b[0mOutput #0, image2, to '/content/drive/MyDrive/Algorithm_Testing/frames/frame_%04d.jpg':\n",
            "  Metadata:\n",
            "    major_brand     : isom\n",
            "    minor_version   : 512\n",
            "    compatible_brands: isomiso2avc1mp41\n",
            "    encoder         : Lavf58.76.100\n",
            "  Stream #0:0(und): Video: mjpeg, yuvj420p(pc, bt709/bt709/unknown, progressive), 3840x2160 [SAR 1:1 DAR 16:9], q=2-31, 200 kb/s, 15 fps, 15 tbn (default)\n",
            "    Metadata:\n",
            "      handler_name    : VideoHandler\n",
            "      vendor_id       : [0][0][0][0]\n",
            "      timecode        : 04:34:44:01\n",
            "      encoder         : Lavc58.134.100 mjpeg\n",
            "    Side data:\n",
            "      cpb: bitrate max/min/avg: 0/0/200000 buffer size: 0 vbv_delay: N/A\n",
            "frame=  353 fps=8.6 q=2.0 Lsize=N/A time=00:00:23.53 bitrate=N/A speed=0.571x    \n",
            "video:117614kB audio:0kB subtitle:0kB other streams:0kB global headers:0kB muxing overhead: unknown\n"
          ]
        }
      ]
    },
    {
      "cell_type": "markdown",
      "source": [
        "**Check the validation of the frames**"
      ],
      "metadata": {
        "id": "S9ydmqRDuu8v"
      }
    },
    {
      "cell_type": "code",
      "source": [
        "import cv2\n",
        "\n",
        "# Example: Open video and read frames\n",
        "cap = cv2.VideoCapture(input_video)\n",
        "\n",
        "while cap.isOpened():\n",
        "    ret, frame = cap.read()\n",
        "    if not ret:\n",
        "        print(\"Failed to grab a frame. Exiting...\")\n",
        "        break\n",
        "\n",
        "    if frame is not None:\n",
        "        # Now apply bilateralFilter\n",
        "        filtered = cv2.bilateralFilter(frame, d=9, sigmaColor=75, sigmaSpace=75)\n",
        "        # Do something with the filtered frame...\n",
        "    else:\n",
        "        print(\"Empty frame. Skipping...\")"
      ],
      "metadata": {
        "colab": {
          "base_uri": "https://localhost:8080/"
        },
        "id": "AxXqhXrGuww3",
        "outputId": "2560bf2f-f386-4590-a3c0-33314efce25b"
      },
      "execution_count": null,
      "outputs": [
        {
          "output_type": "stream",
          "name": "stdout",
          "text": [
            "Failed to grab a frame. Exiting...\n"
          ]
        }
      ]
    },
    {
      "cell_type": "markdown",
      "source": [
        "**Enhance the Frames of the video**"
      ],
      "metadata": {
        "id": "b7vIeW2au9Q0"
      }
    },
    {
      "cell_type": "code",
      "source": [],
      "metadata": {
        "id": "WnDLUTMYw6Qu"
      },
      "execution_count": null,
      "outputs": []
    },
    {
      "cell_type": "code",
      "source": [
        "import cv2\n",
        "import numpy as np\n",
        "import os\n",
        "\n",
        "input_frames_dir = \"/content/drive/MyDrive/Algorithm_Testing/frames\"\n",
        "output_frames_dir = \"/content/drive/MyDrive/Algorithm_Testing/enhanced_frames\"\n",
        "\n",
        "os.makedirs(output_frames_dir, exist_ok=True)\n",
        "\n",
        "frame_files = sorted(os.listdir(input_frames_dir))\n",
        "\n",
        "for frame_file in frame_files:\n",
        "    frame_path = os.path.join(input_frames_dir, frame_file)\n",
        "    frame = cv2.imread(frame_path)\n",
        "\n",
        "    # --- Apply quality-preserving enhancement ---\n",
        "    # 1. Bilateral Filter (for light denoising while keeping edges)\n",
        "    filtered = cv2.bilateralFilter(frame, d=9, sigmaColor=75, sigmaSpace=75)\n",
        "\n",
        "    # 2. Unsharp Mask (sharpen edges without overdoing it)\n",
        "    gaussian = cv2.GaussianBlur(filtered, (9, 9), 10.0)\n",
        "    unsharp = cv2.addWeighted(filtered, 1.5, gaussian, -0.5, 0)\n",
        "\n",
        "    # 3. Mild contrast enhancement (optional)\n",
        "    enhanced = cv2.convertScaleAbs(unsharp, alpha=1.1, beta=5)\n",
        "\n",
        "    # Save result\n",
        "    enhanced_frame_path = os.path.join(output_frames_dir, frame_file)\n",
        "    cv2.imwrite(enhanced_frame_path, enhanced)\n",
        "\n",
        "print(f\"Enhanced frames are saved in {output_frames_dir}.\")"
      ],
      "metadata": {
        "colab": {
          "base_uri": "https://localhost:8080/"
        },
        "id": "uZqV6R2K9JYH",
        "outputId": "ec8036d9-f12a-4da5-94d1-25011670a79e"
      },
      "execution_count": null,
      "outputs": [
        {
          "output_type": "stream",
          "name": "stdout",
          "text": [
            "Enhanced frames are saved in /content/drive/MyDrive/Algorithm_Testing/enhanced_frames.\n"
          ]
        }
      ]
    },
    {
      "cell_type": "markdown",
      "source": [
        "**Convert to the video**"
      ],
      "metadata": {
        "id": "TCzWvDRfxMX0"
      }
    },
    {
      "cell_type": "code",
      "source": [],
      "metadata": {
        "id": "_KUnH_CbxOr9"
      },
      "execution_count": null,
      "outputs": []
    },
    {
      "cell_type": "code",
      "source": [
        "import cv2\n",
        "import os\n",
        "\n",
        "# Input and output paths\n",
        "input_frames_dir = \"/content/drive/MyDrive/Algorithm_Testing/enhanced_frames\"\n",
        "output_video_path = \"/content/drive/MyDrive/Algorithm_Testing/enhanced_video.mp4\"\n",
        "\n",
        "# Sorted list of frame files\n",
        "frame_files = sorted(os.listdir(input_frames_dir))\n",
        "\n",
        "# Load the first frame to get frame size\n",
        "first_frame = cv2.imread(os.path.join(input_frames_dir, frame_files[0]))\n",
        "height, width, _ = first_frame.shape\n",
        "\n",
        "# Define video writer (use MP4V codec)\n",
        "fourcc = cv2.VideoWriter_fourcc(*'mp4v')\n",
        "fps = 30  # Change this if your original video had a different FPS\n",
        "video_writer = cv2.VideoWriter(output_video_path, fourcc, fps, (width, height))\n",
        "\n",
        "# Write all frames to the video\n",
        "for frame_file in frame_files:\n",
        "    frame_path = os.path.join(input_frames_dir, frame_file)\n",
        "    frame = cv2.imread(frame_path)\n",
        "    video_writer.write(frame)\n",
        "\n",
        "video_writer.release()\n",
        "print(f\"Reconstructed video saved as: {output_video_path}\")"
      ],
      "metadata": {
        "colab": {
          "base_uri": "https://localhost:8080/"
        },
        "id": "TCYBHmN3DPIa",
        "outputId": "a4d1b256-dc7f-4c15-e16b-01646a77e1c3"
      },
      "execution_count": null,
      "outputs": [
        {
          "output_type": "stream",
          "name": "stdout",
          "text": [
            "Reconstructed video saved as: /content/drive/MyDrive/Algorithm_Testing/enhanced_video.mp4\n"
          ]
        }
      ]
    },
    {
      "cell_type": "markdown",
      "source": [
        "**Enhanced Video Info**"
      ],
      "metadata": {
        "id": "tAmJTcZexVvO"
      }
    },
    {
      "cell_type": "code",
      "source": [],
      "metadata": {
        "id": "ju77EUk9xat2"
      },
      "execution_count": null,
      "outputs": []
    },
    {
      "cell_type": "code",
      "source": [
        "import ffmpeg\n",
        "\n",
        "# Input video file\n",
        "input_video = \"/content/drive/MyDrive/Algorithm_Testing/enhanced_video.mp4\"\n",
        "\n",
        "# Get video information using ffprobe\n",
        "probe = ffmpeg.probe(input_video, v='error', select_streams='v:0',\n",
        "                     show_entries='stream=width,height,bit_rate,r_frame_rate')\n",
        "width = probe['streams'][0]['width']\n",
        "height = probe['streams'][0]['height']\n",
        "bit_rate = int(probe['streams'][0]['bit_rate'])\n",
        "frame_rate = eval(probe['streams'][0]['r_frame_rate'])  # converts \"24/1\" to 24.0\n",
        "\n",
        "print(f\"Original Width: {width}\")\n",
        "print(f\"Original Height: {height}\")\n",
        "print(f\"Original Bitrate: {bit_rate} bits per second\")\n",
        "print(f\"Original Frame Rate: {frame_rate}\")"
      ],
      "metadata": {
        "id": "pUUC5Ap3xbC6"
      },
      "execution_count": null,
      "outputs": []
    }
  ]
}